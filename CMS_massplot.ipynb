{
 "cells": [
  {
   "cell_type": "markdown",
   "metadata": {},
   "source": [
    "# Creating a mass plot from CERN OpenData\n",
    "\n",
    "In this example, we'll import some detector data and make a plot of the masses of the particles detected.\n",
    "\n",
    "To begin, click the \"play\" icon or press shift+ENTER to execute each cell."
   ]
  },
  {
   "cell_type": "code",
   "execution_count": 1,
   "metadata": {
    "collapsed": false
   },
   "outputs": [
    {
     "name": "stderr",
     "output_type": "stream",
     "text": [
      "/home/main/anaconda2/envs/python3/lib/python3.5/site-packages/matplotlib/font_manager.py:273: UserWarning: Matplotlib is building the font cache using fc-list. This may take a moment.\n",
      "  warnings.warn('Matplotlib is building the font cache using fc-list. This may take a moment.')\n",
      "/home/main/anaconda2/envs/python3/lib/python3.5/site-packages/matplotlib/font_manager.py:273: UserWarning: Matplotlib is building the font cache using fc-list. This may take a moment.\n",
      "  warnings.warn('Matplotlib is building the font cache using fc-list. This may take a moment.')\n"
     ]
    }
   ],
   "source": [
    "# First, we'll \"import\" the software packages needed.\n",
    "import pandas as pd\n",
    "import numpy as np\n",
    "%matplotlib inline\n",
    "import matplotlib as mpl\n",
    "import matplotlib.pyplot as plt\n",
    "inline_rc = dict(mpl.rcParams)\n",
    "\n",
    "# Starting a line with a hashtag tells the program not to read the line.\n",
    "# That way we can write \"comments\" to humans trying to figure out what the code does.\n",
    "# Blank lines don't do anything either, but they can make the code easier to read."
   ]
  },
  {
   "cell_type": "markdown",
   "metadata": {},
   "source": [
    "## Importing a data set\n",
    "Now let's choose some data to plot. In this example we'll pull data from CERN's CMS detector and make a histogram of invariant mass. You can find more at CERN OpenData\n",
    "\n",
    "This next cell will take a little while to run since it's grabbing a pretty big data set. This one contains 100,000 collision events. The cell label will look like \"In [\\*]\" while it's still thinking and \"In [2]\" when it's finished."
   ]
  },
  {
   "cell_type": "code",
   "execution_count": 2,
   "metadata": {
    "collapsed": false
   },
   "outputs": [],
   "source": [
    "# Whenever you type \"something =\" it defines a new variable, \"something\", \n",
    "# and sets it equal to whatever follows the equals sign. That could be a number, \n",
    "# another variable, or in this case an entire table of numbers.\n",
    "data = pd.read_csv('http://opendata.cern.ch/record/303/files/dimuon.csv')\n",
    "\n",
    "# Analyze dielectron data instead by referencing this URL:\n",
    "# http://opendata.cern.ch/record/304/files/dielectron.csv"
   ]
  },
  {
   "cell_type": "markdown",
   "metadata": {},
   "source": [
    "We can view the first few rows of the file we just imported."
   ]
  },
  {
   "cell_type": "code",
   "execution_count": 3,
   "metadata": {
    "collapsed": false
   },
   "outputs": [
    {
     "data": {
      "text/html": [
       "<div>\n",
       "<table border=\"1\" class=\"dataframe\">\n",
       "  <thead>\n",
       "    <tr style=\"text-align: right;\">\n",
       "      <th></th>\n",
       "      <th>Type</th>\n",
       "      <th>Run</th>\n",
       "      <th>Event</th>\n",
       "      <th>E1</th>\n",
       "      <th>px1</th>\n",
       "      <th>py1</th>\n",
       "      <th>pz1</th>\n",
       "      <th>pt1</th>\n",
       "      <th>eta1</th>\n",
       "      <th>phi1</th>\n",
       "      <th>Q1</th>\n",
       "      <th>E2</th>\n",
       "      <th>px2</th>\n",
       "      <th>py2</th>\n",
       "      <th>pz2</th>\n",
       "      <th>pt2</th>\n",
       "      <th>eta2</th>\n",
       "      <th>phi2</th>\n",
       "      <th>Q2</th>\n",
       "      <th>M</th>\n",
       "    </tr>\n",
       "  </thead>\n",
       "  <tbody>\n",
       "    <tr>\n",
       "      <th>0</th>\n",
       "      <td>GT</td>\n",
       "      <td>146511</td>\n",
       "      <td>25343052</td>\n",
       "      <td>7.33390</td>\n",
       "      <td>2.060420</td>\n",
       "      <td>5.88580</td>\n",
       "      <td>-3.85836</td>\n",
       "      <td>6.23602</td>\n",
       "      <td>-0.584812</td>\n",
       "      <td>1.234060</td>\n",
       "      <td>-1</td>\n",
       "      <td>5.20755</td>\n",
       "      <td>-1.55016</td>\n",
       "      <td>-1.81976</td>\n",
       "      <td>4.62525</td>\n",
       "      <td>2.39050</td>\n",
       "      <td>1.414110</td>\n",
       "      <td>-2.276360</td>\n",
       "      <td>1</td>\n",
       "      <td>11.82820</td>\n",
       "    </tr>\n",
       "    <tr>\n",
       "      <th>1</th>\n",
       "      <td>GG</td>\n",
       "      <td>146511</td>\n",
       "      <td>25341481</td>\n",
       "      <td>18.46720</td>\n",
       "      <td>8.033950</td>\n",
       "      <td>-3.94072</td>\n",
       "      <td>-16.15410</td>\n",
       "      <td>8.94839</td>\n",
       "      <td>-1.352990</td>\n",
       "      <td>-0.456026</td>\n",
       "      <td>-1</td>\n",
       "      <td>10.72950</td>\n",
       "      <td>6.29476</td>\n",
       "      <td>-2.52441</td>\n",
       "      <td>-8.31349</td>\n",
       "      <td>6.78208</td>\n",
       "      <td>-1.032390</td>\n",
       "      <td>-0.381397</td>\n",
       "      <td>1</td>\n",
       "      <td>2.58406</td>\n",
       "    </tr>\n",
       "    <tr>\n",
       "      <th>2</th>\n",
       "      <td>GG</td>\n",
       "      <td>146511</td>\n",
       "      <td>25390065</td>\n",
       "      <td>7.70222</td>\n",
       "      <td>-0.248771</td>\n",
       "      <td>4.08338</td>\n",
       "      <td>6.52511</td>\n",
       "      <td>4.09095</td>\n",
       "      <td>1.246340</td>\n",
       "      <td>1.631640</td>\n",
       "      <td>-1</td>\n",
       "      <td>6.90202</td>\n",
       "      <td>-3.02439</td>\n",
       "      <td>3.75129</td>\n",
       "      <td>4.94041</td>\n",
       "      <td>4.81862</td>\n",
       "      <td>0.899132</td>\n",
       "      <td>2.249320</td>\n",
       "      <td>1</td>\n",
       "      <td>3.11929</td>\n",
       "    </tr>\n",
       "  </tbody>\n",
       "</table>\n",
       "</div>"
      ],
      "text/plain": [
       "  Type     Run     Event        E1      px1       py1       pz1      pt1  \\\n",
       "0   GT  146511  25343052   7.33390  2.060420  5.88580  -3.85836  6.23602   \n",
       "1   GG  146511  25341481  18.46720  8.033950 -3.94072 -16.15410  8.94839   \n",
       "2   GG  146511  25390065   7.70222 -0.248771  4.08338   6.52511  4.09095   \n",
       "\n",
       "       eta1      phi1  Q1        E2      px2      py2      pz2      pt2  \\\n",
       "0 -0.584812  1.234060  -1   5.20755 -1.55016 -1.81976  4.62525  2.39050   \n",
       "1 -1.352990 -0.456026  -1  10.72950  6.29476 -2.52441 -8.31349  6.78208   \n",
       "2  1.246340  1.631640  -1   6.90202 -3.02439  3.75129  4.94041  4.81862   \n",
       "\n",
       "       eta2      phi2  Q2         M  \n",
       "0  1.414110 -2.276360   1  11.82820  \n",
       "1 -1.032390 -0.381397   1   2.58406  \n",
       "2  0.899132  2.249320   1   3.11929  "
      ]
     },
     "execution_count": 3,
     "metadata": {},
     "output_type": "execute_result"
    }
   ],
   "source": [
    "# The .head(n) command displays the first n rows of the file.\n",
    "data.head(3)"
   ]
  },
  {
   "cell_type": "markdown",
   "metadata": {},
   "source": [
    "## Making a histogram\n",
    "CMS software calculated the invariant mass of a possible parent particle, based on the two particles' energies and momenta. It's in the last column, labeled \"M\". The code below makes a histogram of those mass values."
   ]
  },
  {
   "cell_type": "code",
   "execution_count": 4,
   "metadata": {
    "collapsed": false
   },
   "outputs": [
    {
     "data": {
      "text/plain": [
       "<matplotlib.text.Text at 0x7f0e88c1a438>"
      ]
     },
     "execution_count": 4,
     "metadata": {},
     "output_type": "execute_result"
    },
    {
     "data": {
      "image/png": "[encoded data removed]",
      "text/plain": [
       "<matplotlib.figure.Figure at 0x7f0e8581d7b8>"
      ]
     },
     "metadata": {},
     "output_type": "display_data"
    }
   ],
   "source": [
    "# adding a ; at the end of the next line will  \"suppress\" the text output of the histogram's frequency table\n",
    "plt.hist(data.M, bins=120, range=[0,120], log=True)\n",
    "plt.title(\"CMS Dimuon Mass Plot\")\n",
    "plt.xlabel(\"mass (GeV)\")\n",
    "plt.ylabel(\"number of events\")"
   ]
  },
  {
   "cell_type": "markdown",
   "metadata": {},
   "source": [
    "# Part Two\n",
    "Create a histogram to show the production of one of the following particles: [J/$\\Psi$](https://en.wikipedia.org/wiki/J/psi_meson), [Upsilon](https://en.wikipedia.org/wiki/Upsilon_meson) ($\\Upsilon$), or [Z](https://en.wikipedia.org/wiki/W_and_Z_bosons)."
   ]
  },
  {
   "cell_type": "code",
   "execution_count": null,
   "metadata": {
    "collapsed": true
   },
   "outputs": [],
   "source": []
  },
  {
   "cell_type": "markdown",
   "metadata": {},
   "source": [
    "# Part Three\n",
    "Try selecting a subset of the events to analyze. This is called \"applying cuts\" to your data. Below are a few commands you may find useful."
   ]
  },
  {
   "cell_type": "code",
   "execution_count": null,
   "metadata": {
    "collapsed": false
   },
   "outputs": [],
   "source": [
    "# create a new data set of only the events containing oppositely charges particles\n",
    "data2 = data[data.Q1 != data.Q2] # change != to == for same charge"
   ]
  },
  {
   "cell_type": "code",
   "execution_count": null,
   "metadata": {
    "collapsed": false
   },
   "outputs": [],
   "source": [
    "# create a new data set of only events in a certain mass range\n",
    "data3 = data[(data.M > 50) & (data.M < 80)] # this choses 50 to 80 GeV"
   ]
  },
  {
   "cell_type": "code",
   "execution_count": null,
   "metadata": {
    "collapsed": false
   },
   "outputs": [],
   "source": [
    "# make a scatterplot of two columns\n",
    "# plt.scatter(x_column, y_column, s=point_size, other parameters)\n",
    "plt.scatter(data.eta1, data.phi1, s=.05)"
   ]
  },
  {
   "cell_type": "code",
   "execution_count": null,
   "metadata": {
    "collapsed": false
   },
   "outputs": [],
   "source": [
    "# make your plots look like they're from xkcd.com\n",
    "plt.xkcd()\n",
    "\n",
    "# to make normal-looking plots again execute:\n",
    "# mpl.rcParams.update(inline_rc)\n",
    "\n",
    "# plt.hist can stack two histograms\n",
    "d1 = data[data.Q1 == data.Q2]\n",
    "d2 = data[data.Q1 != data.Q2]\n",
    "\n",
    "plt.hist([d1.M, d2.M], range=[2,5], stacked=True, label=[\"same Q\",\"opp Q\"], bins=20, log=True)\n",
    "plt.title(\"Cutting on net charge\")\n",
    "plt.xlabel(\"mass (GeV)\")\n",
    "plt.ylabel(\"log number of events\")\n",
    "plt.legend()"
   ]
  },
  {
   "cell_type": "markdown",
   "metadata": {
    "collapsed": true
   },
   "source": [
    "## Save Your Work\n",
    "\n",
    "Download this notebook and upload it to your GitHub. Need a refresher? [Find instructions here](https://drive.google.com/open?id=1GszC6t8K9gSKdR-cigtoxaHK8V1IL_K2PXo5L87Z9xo)."
   ]
  }
 ],
 "metadata": {
  "kernelspec": {
   "display_name": "Python 3",
   "language": "python",
   "name": "python3"
  },
  "language_info": {
   "codemirror_mode": {
    "name": "ipython",
    "version": 3
   },
   "file_extension": ".py",
   "mimetype": "text/x-python",
   "name": "python",
   "nbconvert_exporter": "python",
   "pygments_lexer": "ipython3",
   "version": "3.5.2"
  }
 },
 "nbformat": 4,
 "nbformat_minor": 0
}
